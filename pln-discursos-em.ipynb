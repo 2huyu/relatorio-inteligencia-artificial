{
 "cells": [
  {
   "cell_type": "markdown",
   "metadata": {},
   "source": [
    "### Zhuyu Chen Su\n",
    "** RA: 10400811 **"
   ]
  },
  {
   "cell_type": "code",
   "execution_count": null,
   "metadata": {},
   "outputs": [],
   "source": [
    "import json\n",
    "import pandas as pd\n",
    "\n",
    "# Carregando os discursos do arquivo JSON\n",
    "with open(\"Discursos_PLs_Novo_Ensino_Medio_01.json\", \"r\", encoding=\"utf-8\") as file:\n",
    "    dados = json.load(file)\n",
    "\n",
    "df_discursos = pd.DataFrame(dados[\"data\"])\n",
    "df_discursos.dropna(subset=[\"sumario\"], inplace=True)  # Remove discursos vazios\n"
   ]
  },
  {
   "cell_type": "code",
   "execution_count": null,
   "metadata": {},
   "outputs": [],
   "source": [
    "from transformers import AutoTokenizer, AutoModel\n",
    "import torch\n",
    "\n",
    "# Carregando o modelo BERT pré-treinado\n",
    "modelo = \"neuralmind/bert-base-portuguese-cased\"\n",
    "tokenizer = AutoTokenizer.from_pretrained(modelo)\n",
    "model = AutoModel.from_pretrained(modelo)\n",
    "\n",
    "# Tokenizar todos os discursos e criar tensores\n",
    "tokens = tokenizer(\n",
    "    list(df_discursos[\"sumario\"]),\n",
    "    return_tensors=\"pt\",\n",
    "    truncation=True,\n",
    "    padding=True,\n",
    "    max_length=512\n",
    ")"
   ]
  },
  {
   "cell_type": "code",
   "execution_count": null,
   "metadata": {},
   "outputs": [],
   "source": [
    "# Gerar embeddings usando o modelo BERT\n",
    "with torch.no_grad():\n",
    "    outputs = model(**tokens)\n",
    "\n",
    "# Usamos a média da última camada oculta\n",
    "embeddings_discursos = outputs.last_hidden_state.mean(dim=1).detach().numpy()\n",
    "\n",
    "# Adicionamos os embeddings ao DataFrame\n",
    "df_discursos[\"embedding\"] = embeddings_discursos.tolist()"
   ]
  },
  {
   "cell_type": "code",
   "execution_count": null,
   "metadata": {},
   "outputs": [
    {
     "name": "stdout",
     "output_type": "stream",
     "text": [
      "Embedding gerado: [-0.17821985 -0.04010328  0.6383869   0.13812067  0.22595106  0.2434991\n",
      " -0.07149211  0.10627832 -0.11480856 -0.46705335] ...\n"
     ]
    }
   ],
   "source": [
    "import torch\n",
    "import numpy as np\n",
    "import pandas as pd\n",
    "from transformers import AutoTokenizer, AutoModel\n",
    "from sklearn.metrics.pairwise import cosine_similarity\n",
    "\n",
    "\n",
    "# --- Função para dividir em blocos com limite de tokens ---\n",
    "def dividir_em_blocos(texto, tokenizer, max_tokens=512):\n",
    "    tokens = tokenizer.tokenize(texto)\n",
    "    blocos = [tokens[i:i+max_tokens] for i in range(0, len(tokens), max_tokens)]\n",
    "    return [\" \".join(tokenizer.convert_tokens_to_string(b).split()) for b in blocos]\n",
    "\n",
    "# Função para gerar o embedding médio dos blocos\n",
    "def gerar_embedding_medio(texto, tokenizer, model):\n",
    "    blocos = dividir_em_blocos(texto, tokenizer)\n",
    "    embeddings = []\n",
    "\n",
    "    for bloco in blocos:\n",
    "        inputs = tokenizer(bloco, return_tensors=\"pt\", truncation=True, padding=True, max_length=512)\n",
    "        with torch.no_grad():\n",
    "            outputs = model(**inputs)\n",
    "        embedding = outputs.last_hidden_state.mean(dim=1).squeeze()\n",
    "        embeddings.append(embedding)\n",
    "\n",
    "    media = torch.stack(embeddings).mean(dim=0)\n",
    "    return media.numpy()\n",
    "\n",
    "# Texto da lei a ser pré-processado e convertido em embedding\n",
    "\n",
    "texto_lei = \"\"\"\n",
    "LEI Nº 13.415, DE 16 DE FEVEREIRO DE 2017\n",
    "Art. 1º O art. 24 da Lei nº 9.394, de 20 de dezembro de 1996, passa a vigorar com as seguintes alterações: \n",
    " \n",
    "\"Art. 24. \n",
    "I - a carga horária mínima anual será de oitocentas horas para o ensino fundamental e para o ensino médio, distribuídas por um mínimo de duzentos dias de efetivo trabalho escolar, excluído o tempo reservado aos exames finais, quando houver;\n",
    "  \n",
    "§ 1º A carga horária mínima anual de que trata o inciso I do caput deverá ser ampliada de forma progressiva, no ensino médio, para mil e quatrocentas horas, devendo os sistemas de ensino oferecer, no prazo máximo de cinco anos, pelo menos mil horas anuais de carga horária, a partir de 2 de março de 2017. \n",
    "§ 2º Os sistemas de ensino disporão sobre a oferta de educação de jovens e adultos e de ensino noturno regular, adequado às condições do educando, conforme o inciso VI do art. 4º.\" (NR)\n",
    " \n",
    "Art. 2º O art. 26 da Lei nº 9.394, de 20 de dezembro de 1996, passa a vigorar com as seguintes alterações: \n",
    " \n",
    "\"Art. 26. \n",
    "§ 2º O ensino da arte, especialmente em suas expressões regionais, constituirá componente curricular obrigatório da educação básica. \n",
    "§ 5º No currículo do ensino fundamental, a partir do sexto ano, será ofertada a língua inglesa. \n",
    "§ 7º A integralização curricular poderá incluir, a critério dos sistemas de ensino, projetos e pesquisas envolvendo os temas transversais de que trata o caput.\n",
    "§ 10. A inclusão de novos componentes curriculares de caráter obrigatório na Base Nacional Comum Curricular dependerá de aprovação do Conselho Nacional de Educação e de homologação pelo Ministro de Estado da Educação.\" (NR)\n",
    " \n",
    "Art. 3º A Lei nº 9.394, de 20 de dezembro de 1996, passa a vigorar acrescida do seguinte art. 35-A: \n",
    " \n",
    "\"Art. 35-A. A Base Nacional Comum Curricular definirá direitos e objetivos de aprendizagem do ensino médio, conforme diretrizes do Conselho Nacional de Educação, nas seguintes áreas do conhecimento: \n",
    "I - linguagens e suas tecnologias; \n",
    "II - matemática e suas tecnologias; \n",
    "III - ciências da natureza e suas tecnologias; \n",
    "IV - ciências humanas e sociais aplicadas. \n",
    "§ 1º A parte diversificada dos currículos de que trata o caput do art. 26, definida em cada sistema de ensino, deverá estar harmonizada à Base Nacional Comum Curricular e ser articulada a partir do contexto histórico, econômico, social, ambiental e cultural. \n",
    "§ 2º A Base Nacional Comum Curricular referente ao ensino médio incluirá obrigatoriamente estudos e práticas de educação física, arte, sociologia e filosofia. \n",
    "§ 3º O ensino da língua portuguesa e da matemática será obrigatório nos três anos do ensino médio, assegurada às comunidades indígenas, também, a utilização das respectivas línguas maternas. \n",
    "§ 4º Os currículos do ensino médio incluirão, obrigatoriamente, o estudo da língua inglesa e poderão ofertar outras línguas estrangeiras, em caráter optativo, preferencialmente o espanhol, de acordo com a disponibilidade de oferta, locais e horários definidos pelos sistemas de ensino. \n",
    "§ 5º A carga horária destinada ao cumprimento da Base Nacional Comum Curricular não poderá ser superior a mil e oitocentas horas do total da carga horária do ensino médio, de acordo com a definição dos sistemas de ensino. \n",
    "§ 6º A União estabelecerá os padrões de desempenho esperados para o ensino médio, que serão referência nos processos nacionais de avaliação, a partir da Base Nacional Comum Curricular. \n",
    "§ 7º Os currículos do ensino médio deverão considerar a formação integral do aluno, de maneira a adotar um trabalho voltado para a construção de seu projeto de vida e para sua formação nos aspectos físicos, cognitivos e socioemocionais. \n",
    "§ 8º Os conteúdos, as metodologias e as formas de avaliação processual e formativa serão organizados nas redes de ensino por meio de atividades teóricas e práticas, provas orais e escritas, seminários, projetos e atividades on-line, de tal forma que ao final do ensino médio o educando demonstre: \n",
    "I - domínio dos princípios científicos e tecnológicos que presidem a produção moderna;\n",
    "II - conhecimento das formas contemporâneas de linguagem.\"\n",
    " \n",
    "Art. 4º O art. 36 da Lei nº 9.394, de 20 de dezembro de 1996, passa a vigorar com as seguintes alterações: \n",
    " \n",
    "\"Art. 36. O currículo do ensino médio será composto pela Base Nacional Comum Curricular e por itinerários formativos, que deverão ser organizados por meio da oferta de diferentes arranjos curriculares, conforme a relevância para o contexto local e a possibilidade dos sistemas de ensino, a saber: \n",
    "I - linguagens e suas tecnologias;\n",
    "II - matemática e suas tecnologias;\n",
    "III - ciências da natureza e suas tecnologias; \n",
    "IV - ciências humanas e sociais aplicadas; \n",
    "V - formação técnica e profissional. \n",
    "§ 1º A organização das áreas de que trata o caput e das respectivas competências e habilidades será feita de acordo com critérios estabelecidos em cada sistema de ensino. \n",
    "I - (revogado);\n",
    "II - (revogado); \n",
    "§ 3º A critério dos sistemas de ensino, poderá ser composto itinerário formativo integrado, que se traduz na composição de componentes curriculares da Base Nacional Comum Curricular - BNCC e dos itinerários formativos, considerando os incisos I a V do caput. \n",
    "§ 5º Os sistemas de ensino, mediante disponibilidade de vagas na rede, possibilitarão ao aluno concluinte do ensino médio cursar mais um itinerário formativo de que trata o caput. \n",
    "§ 6º A critério dos sistemas de ensino, a oferta de formação com ênfase técnica e profissional considerará: \n",
    "I - a inclusão de vivências práticas de trabalho no setor produtivo ou em ambientes de simulação, estabelecendo parcerias e fazendo uso, quando aplicável, de instrumentos estabelecidos pela legislação sobre aprendizagem profissional;\n",
    "II - a possibilidade de concessão de certificados intermediários de qualificação para o trabalho, quando a formação for estruturada e organizada em etapas com terminalidade. \n",
    "§ 7º A oferta de formações experimentais relacionadas ao inciso V do caput, em áreas que não constem do Catálogo Nacional dos Cursos Técnicos, dependerá, para sua continuidade, do reconhecimento pelo respectivo Conselho Estadual de Educação, no prazo de três anos, e da inserção no Catálogo Nacional dos Cursos Técnicos, no prazo de cinco anos, contados da data de oferta inicial da formação. \n",
    "§ 8º A oferta de formação técnica e profissional a que se refere o inciso V do caput, realizada na própria instituição ou em parceria com outras instituições, deverá ser aprovada previamente pelo Conselho Estadual de Educação, homologada pelo Secretário Estadual de Educação e certificada pelos sistemas de ensino. \n",
    "§ 9º As instituições de ensino emitirão certificado com validade nacional, que habilitará o concluinte do ensino médio ao prosseguimento dos estudos em nível superior ou em outros cursos ou formações para os quais a conclusão do ensino médio seja etapa obrigatória. \n",
    "§ 10. Além das formas de organização previstas no art. 23, o ensino médio poderá ser organizado em módulos e adotar o sistema de créditos com terminalidade específica. \n",
    "§ 11. Para efeito de cumprimento das exigências curriculares do ensino médio, os sistemas de ensino poderão reconhecer competências e firmar convênios com instituições de educação a distância com notório reconhecimento, mediante as seguintes formas de comprovação: \n",
    "I - demonstração prática;\n",
    "II - experiência de trabalho supervisionado ou outra experiência adquirida fora do ambiente escolar; \n",
    "III - atividades de educação técnica oferecidas em outras instituições de ensino credenciadas; \n",
    "IV - cursos oferecidos por centros ou programas ocupacionais; \n",
    "V - estudos realizados em instituições de ensino nacionais ou estrangeiras; \n",
    "VI - cursos realizados por meio de educação a distância ou educação presencial mediada por tecnologias. \n",
    "§ 12. As escolas deverão orientar os alunos no processo de escolha das áreas de conhecimento ou de atuação profissional previstas no caput.\" (NR)\n",
    " \n",
    "Art. 5º O art. 44 da Lei nº 9.394, de 20 de dezembro de 1996, passa a vigorar acrescido do seguinte § 3º: \n",
    " \n",
    "\"Art. 44. \n",
    "§ 3º O processo seletivo referido no inciso II considerará as competências e as habilidades definidas na Base Nacional Comum Curricular.\" (NR)\n",
    " \n",
    "Art. 6º O art. 61 da Lei nº 9.394, de 20 de dezembro de 1996, passa a vigorar com as seguintes alterações: \n",
    " \n",
    "\"Art. 61. \n",
    "IV - profissionais com notório saber reconhecido pelos respectivos sistemas de ensino, para ministrar conteúdos de áreas afins à sua formação ou experiência profissional, atestados por titulação específica ou prática de ensino em unidades educacionais da rede pública ou privada ou das corporações privadas em que tenham atuado, exclusivamente para atender ao inciso V do caput do art. 36;\n",
    "V - profissionais graduados que tenham feito complementação pedagógica, conforme disposto pelo Conselho Nacional de Educação. \n",
    " (NR)\n",
    " \n",
    "Art. 7º O art. 62 da Lei nº 9.394, de 20 de dezembro de 1996, passa a vigorar com as seguintes alterações: \n",
    " \n",
    "\"Art. 62. A formação de docentes para atuar na educação básica far-se-á em nível superior, em curso de licenciatura plena, admitida, como formação mínima para o exercício do magistério na educação infantil e nos cinco primeiros anos do ensino fundamental, a oferecida em nível médio, na modalidade normal.\n",
    "§ 8º Os currículos dos cursos de formação de docentes terão por referência a Base Nacional Comum Curricular.\" (NR)\n",
    " \n",
    "Art. 8º O art. 318 da Consolidação das Leis do Trabalho - CLT, aprovada pelo Decreto-Lei nº 5.452, de 1º de maio de 1943, passa a vigorar com a seguinte redação: \n",
    " \n",
    "\"Art. 318. O professor poderá lecionar em um mesmo estabelecimento por mais de um turno, desde que não ultrapasse a jornada de trabalho semanal estabelecida legalmente, assegurado e não computado o intervalo para refeição.\" (NR)\n",
    " \n",
    "Art. 9º O caput do art. 10 da Lei nº 11.494, de 20 de junho de 2007, passa a vigorar acrescido do seguinte inciso XVIII: \n",
    " \n",
    "\"Art. 10. \n",
    "XVIII - formação técnica e profissional prevista no inciso V do caput do art. 36 da Lei nº 9.394, de 20 de dezembro de 1996. \n",
    " \n",
    "Art. 10. O art. 16 do Decreto-Lei nº 236, de 28 de fevereiro de 1967, passa a vigorar com as seguintes alterações: \n",
    " \n",
    "\"Art. 16. \n",
    "§ 2º Os programas educacionais obrigatórios deverão ser transmitidos em horários compreendidos entre as sete e as vinte e uma horas. \n",
    "§ 3º O Ministério da Educação poderá celebrar convênios com entidades representativas do setor de radiodifusão, que visem ao cumprimento do disposto no caput, para a divulgação gratuita dos programas e ações educacionais do Ministério da Educação, bem como à definição da forma de distribuição dos programas relativos à educação básica, profissional, tecnológica e superior e a outras matérias de interesse da educação. \n",
    "§ 4º As inserções previstas no caput destinam-se exclusivamente à veiculação de mensagens do Ministério da Educação, com caráter de utilidade pública ou de divulgação de programas e ações educacionais.\" (NR)\n",
    " \n",
    "Art. 11. O disposto no § 8º do art. 62 da Lei nº 9.394, de 20 de dezembro de 1996, deverá ser implementado no prazo de dois anos, contado da publicação da Base Nacional Comum Curricular. \n",
    " \n",
    "Art. 12. Os sistemas de ensino deverão estabelecer cronograma de implementação das alterações na Lei nº 9.394, de 20 de dezembro de 1996, conforme os arts. 2º, 3º e 4º desta Lei, no primeiro ano letivo subsequente à data de publicação da Base Nacional Comum Curricular, e iniciar o processo de implementação, conforme o referido cronograma, a partir do segundo ano letivo subsequente à data de homologação da Base Nacional Comum Curricular. \n",
    " \n",
    "Art. 13. Fica instituída, no âmbito do Ministério da Educação, a Política de Fomento à Implementação de Escolas de Ensino Médio em Tempo Integral. \n",
    "Parágrafo único. A Política de Fomento de que trata o caput prevê o repasse de recursos do Ministério da Educação para os Estados e para o Distrito Federal pelo prazo de dez anos por escola, contado da data de início da implementação do ensino médio integral na respectiva escola, de acordo com termo de compromisso a ser formalizado entre as partes, que deverá conter, no mínimo: \n",
    "I - identificação e delimitação das ações a serem financiadas;\n",
    "II - metas quantitativas;\n",
    "III - cronograma de execução físico-financeira; \n",
    "IV - previsão de início e fim de execução das ações e da conclusão das etapas ou fases programadas. \n",
    " \n",
    "Art. 14. São obrigatórias as transferências de recursos da União aos Estados e ao Distrito Federal, desde que cumpridos os critérios de elegibilidade estabelecidos nesta Lei e no regulamento, com a finalidade de prestar apoio financeiro para o atendimento de escolas públicas de ensino médio em tempo integral cadastradas no Censo Escolar da Educação Básica, e que: \n",
    "I - tenham iniciado a oferta de atendimento em tempo integral a partir da vigência desta Lei de acordo com os critérios de elegibilidade no âmbito da Política de Fomento, devendo ser dada prioridade às regiões com menores índices de desenvolvimento humano e com resultados mais baixos nos processos nacionais de avaliação do ensino médio; e \n",
    "II - tenham projeto político-pedagógico que obedeça ao disposto no art. 36 da Lei nº 9.394, de 20 dezembro de 1996. \n",
    "§ 1º A transferência de recursos de que trata o caput será realizada com base no número de matrículas cadastradas pelos Estados e pelo Distrito Federal no Censo Escolar da Educação Básica, desde que tenham sido atendidos, de forma cumulativa, os requisitos dos incisos I e II do caput. \n",
    "§ 2º A transferência de recursos será realizada anualmente, a partir de valor único por aluno, respeitada a disponibilidade orçamentária para atendimento, a ser definida por ato do Ministro de Estado da Educação. \n",
    "§ 3º Os recursos transferidos nos termos do caput deste artigo poderão ser aplicados nas despesas de manutenção e desenvolvimento previstas no art. 70 da Lei nº 9.394, de 20 de dezembro de 1996 (Lei de Diretrizes e Bases da Educação Nacional), das escolas públicas participantes da Política de Fomento. (Parágrafo com redação dada pela Lei nº 14.640, de 31/7/2023)\n",
    "§ 4º Na hipótese de o Distrito Federal ou de o Estado ter, no momento do repasse do apoio financeiro suplementar de que trata o caput, saldo em conta de recursos repassados anteriormente, esse montante, a ser verificado no último dia do mês anterior ao do repasse, será subtraído do valor a ser repassado como apoio financeiro suplementar do exercício corrente. \n",
    "§ 5º Serão desconsiderados do desconto previsto no § 4º os recursos referentes ao apoio financeiro suplementar, de que trata o caput, transferidos nos últimos doze meses. \n",
    " \n",
    "Art. 15. Os recursos de que trata o parágrafo único do art. 13 serão transferidos pelo Ministério da Educação ao Fundo Nacional do Desenvolvimento da Educação - FNDE, independentemente da celebração de termo específico. \n",
    " \n",
    "Art. 16. Ato do Ministro de Estado da Educação disporá sobre o acompanhamento da implementação do apoio financeiro suplementar de que trata o parágrafo único do art. 13. \n",
    " \n",
    "Art. 17. A transferência de recursos financeiros prevista no parágrafo único do art. 13 será efetivada automaticamente pelo FNDE, dispensada a celebração de convênio, acordo, contrato ou instrumento congênere, mediante depósitos em conta-corrente específica. \n",
    "§ 1º O Conselho Deliberativo do FNDE disporá, em ato próprio, sobre condições, critérios operacionais de distribuição, repasse, execução e prestação de contas simplificada do apoio financeiro. (Parágrafo único transformado em § 1º pela Lei nº 14.640, de 31/7/2023)\n",
    "§ 2º Ficam os Estados e o Distrito Federal autorizados a realizar a execução descentralizada dos recursos financeiros recebidos em decorrência do disposto nesta Lei, por meio de repasse às unidades escolares. (Parágrafo com redação dada pela Lei nº 14.640, de 31/7/2023)\n",
    " \n",
    "Art. 18. Os Estados e o Distrito Federal deverão fornecer, sempre que solicitados, a documentação relativa à execução dos recursos recebidos com base no parágrafo único do art. 13 ao Tribunal de Contas da União, ao FNDE, aos órgãos de controle interno do Poder Executivo federal e aos conselhos de acompanhamento e controle social. \n",
    " \n",
    "Art. 19. O acompanhamento e o controle social sobre a transferência e a aplicação dos recursos repassados com base no parágrafo único do art. 13 serão exercidos no âmbito dos Estados e do Distrito Federal pelos respectivos conselhos previstos no art. 24 da Lei nº 11.494, de 20 de junho de 2007. \n",
    "Parágrafo único. Os conselhos a que se refere o caput analisarão as prestações de contas dos recursos repassados no âmbito desta Lei, formularão parecer conclusivo acerca da aplicação desses recursos e o encaminharão ao FNDE. \n",
    " \n",
    "Art. 20. Os recursos financeiros correspondentes ao apoio financeiro de que trata o parágrafo único do art. 13 correrão à conta de dotação consignada nos orçamentos do FNDE e do Ministério da Educação, observados os limites de movimentação, de empenho e de pagamento da programação orçamentária e financeira anual. \n",
    " \n",
    "Art. 21. Esta Lei entra em vigor na data de sua publicação. \n",
    " \n",
    "Art. 22. Fica revogada a Lei nº 11.161, de 5 de agosto de 2005. \n",
    "\n",
    "\"\"\"\n",
    "\n",
    "# 🔹 Gerar o embedding médio para o texto da lei\n",
    "embedding_lei = gerar_embedding_medio(texto_lei, tokenizer, model)\n",
    "\n",
    "# 🔹 Opcional: exibir tamanho e parte do vetor gerado\n",
    "print(\"Embedding gerado:\", embedding_lei[:10], \"...\")\n",
    "\n"
   ]
  },
  {
   "cell_type": "code",
   "execution_count": 21,
   "metadata": {},
   "outputs": [
    {
     "name": "stdout",
     "output_type": "stream",
     "text": [
      "                     nomeDeputado siglaPartido  sim_lei_2017\n",
      "6                  Alice Portugal        PCdoB      0.896255\n",
      "13                     Padre João           PT      0.882025\n",
      "10  Professora Luciene Cavalcante         PSOL      0.881273\n",
      "9                         Dandara           PT      0.851756\n",
      "16                 Alice Portugal        PCdoB      0.847653\n"
     ]
    }
   ],
   "source": [
    "discursos_emb = np.vstack(df_discursos[\"embedding\"])\n",
    "\n",
    "# Calcular similaridade com cada lei\n",
    "df_discursos[\"sim_lei_2017\"] = cosine_similarity(discursos_emb, embedding_lei.reshape(1, -1))\n",
    "\n",
    "# Exibir resultados\n",
    "print(df_discursos[[\"nomeDeputado\", \"siglaPartido\", \"sim_lei_2017\"]].sort_values(\"sim_lei_2017\", ascending=False).head())\n"
   ]
  },
  {
   "cell_type": "code",
   "execution_count": 22,
   "metadata": {},
   "outputs": [
    {
     "name": "stderr",
     "output_type": "stream",
     "text": [
      "C:\\Users\\zhuyu\\AppData\\Local\\Temp\\ipykernel_12604\\3965488182.py:12: FutureWarning:\n",
      "\n",
      "\n",
      "\n",
      "Passing `palette` without assigning `hue` is deprecated and will be removed in v0.14.0. Assign the `y` variable to `hue` and set `legend=False` for the same effect.\n",
      "\n",
      "\n"
     ]
    },
    {
     "data": {
      "image/png": "[encoded data removed]",
      "text/plain": [
       "<Figure size 1200x700 with 1 Axes>"
      ]
     },
     "metadata": {},
     "output_type": "display_data"
    }
   ],
   "source": [
    "import matplotlib.pyplot as plt\n",
    "import seaborn as sns\n",
    "\n",
    "# Ordenar os discursos por maior similaridade\n",
    "df_plot = df_discursos.sort_values(\"sim_lei_2017\", ascending=False).copy()\n",
    "\n",
    "# Criar coluna de rótulo (nome + partido)\n",
    "df_plot[\"deputado_partido\"] = df_plot[\"nomeDeputado\"] + \" (\" + df_plot[\"siglaPartido\"] + \")\"\n",
    "\n",
    "# Plotar os 20 primeiros\n",
    "plt.figure(figsize=(12, 7))\n",
    "sns.barplot(\n",
    "    y=\"deputado_partido\",\n",
    "    x=\"sim_lei_2017\",\n",
    "    data=df_plot.head(20),\n",
    "    palette=\"viridis\"\n",
    ")\n",
    "plt.title(\"Top 20 discursos mais similares ao projeto de lei\")\n",
    "plt.xlabel(\"Similaridade com o projeto de lei\")\n",
    "plt.ylabel(\"Deputado (Partido)\")\n",
    "plt.tight_layout()\n",
    "plt.show()"
   ]
  },
  {
   "cell_type": "code",
   "execution_count": 23,
   "metadata": {},
   "outputs": [],
   "source": [
    "from transformers import AutoTokenizer, AutoModel\n",
    "import torch\n",
    "import pandas as pd\n",
    "from sklearn.manifold import TSNE\n",
    "import matplotlib.pyplot as plt"
   ]
  },
  {
   "cell_type": "code",
   "execution_count": 24,
   "metadata": {},
   "outputs": [
    {
     "name": "stdout",
     "output_type": "stream",
     "text": [
      "   idEvento   descricaoTipoEvento  idDeputado     nomeDeputado  \\\n",
      "0     70608  Reunião Deliberativa      220598   Tarcísio Motta   \n",
      "1     71547  Reunião Deliberativa      204533  Idilvan Alencar   \n",
      "2     71658   Sessão Deliberativa      160538        Bohn Gass   \n",
      "3     69949  Reunião Deliberativa       74057   Alice Portugal   \n",
      "4     69945  Reunião Deliberativa       74057   Alice Portugal   \n",
      "\n",
      "                                         uriDeputado siglaUf  idLegislatura  \\\n",
      "0  https://dadosabertos.camara.leg.br/api/v2/depu...      RJ             57   \n",
      "1  https://dadosabertos.camara.leg.br/api/v2/depu...      CE             57   \n",
      "2  https://dadosabertos.camara.leg.br/api/v2/depu...      RS             57   \n",
      "3  https://dadosabertos.camara.leg.br/api/v2/depu...      BA             57   \n",
      "4  https://dadosabertos.camara.leg.br/api/v2/depu...      BA             57   \n",
      "\n",
      "  siglaPartido                                         uriPartido  \\\n",
      "0         PSOL  https://dadosabertos.camara.leg.br/api/v2/part...   \n",
      "1          PDT  https://dadosabertos.camara.leg.br/api/v2/part...   \n",
      "2           PT  https://dadosabertos.camara.leg.br/api/v2/part...   \n",
      "3        PCdoB  https://dadosabertos.camara.leg.br/api/v2/part...   \n",
      "4        PCdoB  https://dadosabertos.camara.leg.br/api/v2/part...   \n",
      "\n",
      "          tipoDiscurso           faseEvento  \\\n",
      "0  BREVES COMUNICAÇÕES  Breves Comunicações   \n",
      "1  BREVES COMUNICAÇÕES  Breves Comunicações   \n",
      "2            DISCUSSÃO         Ordem do Dia   \n",
      "3  BREVES COMUNICAÇÕES  Breves Comunicações   \n",
      "4  BREVES COMUNICAÇÕES  Breves Comunicações   \n",
      "\n",
      "                                            keywords  \\\n",
      "0  Projeto de lei ordinária,Poder Executivo,Lei d...   \n",
      "1  Educação,Lei do Novo Ensino Médio (2017),Socio...   \n",
      "2  Discussão,Projeto de lei ordinária,favorável\\r...   \n",
      "3  Homenagem,Dia da Revolução Farroupilha,Dia do ...   \n",
      "4  Homenagem,Dia da Revolução Farroupilha,Dia do ...   \n",
      "\n",
      "                                             sumario  \\\n",
      "0  O Deputado celebrou o anúncio do Governo Feder...   \n",
      "1  O Deputado expressou preocupação com as mudanç...   \n",
      "2  O Deputado discutiu o Projeto de Lei nº 54, de...   \n",
      "3  A Deputada, de início, celebrou o Dia da Revol...   \n",
      "4  A Deputada, de início, celebrou o Dia da Revol...   \n",
      "\n",
      "                                         transcricao  \n",
      "0  O SR. TARCÍSIO MOTTA (Bloco/PSOL - RJ. Sem rev...  \n",
      "1  O SR. IDILVAN ALENCAR (Bloco/PDT - CE. Sem rev...  \n",
      "2  O SR. BOHN GASS (Bloco/PT - RS. Sem revisão do...  \n",
      "3  A SRA. ALICE PORTUGAL (Bloco/PCdoB - BA. Sem r...  \n",
      "4  A SRA. ALICE PORTUGAL (Bloco/PCdoB - BA. Sem r...  \n"
     ]
    }
   ],
   "source": [
    "import json\n",
    "import pandas as pd\n",
    "\n",
    "# String JSON fornecida (pode ser substituída por um arquivo JSON real)\n",
    " \n",
    "with open (\"Discursos_PLs_Novo_Ensino_Medio_01.json\", \"r\", encoding=\"utf-8\") as texto:\n",
    "\n",
    "# Carregar JSON para um dicionário Python\n",
    "    dados = json.load(texto);\n",
    "\n",
    "# Converter para um DataFrame Pandas\n",
    "df = pd.DataFrame(dados[\"data\"])\n",
    "\n",
    "# Exibir as primeiras linhas\n",
    "print(df.head())\n",
    "\n"
   ]
  },
  {
   "cell_type": "code",
   "execution_count": 25,
   "metadata": {},
   "outputs": [
    {
     "name": "stdout",
     "output_type": "stream",
     "text": [
      "      nomeDeputado                                        transcricao  \\\n",
      "0   Tarcísio Motta  O SR. TARCÍSIO MOTTA (Bloco/PSOL - RJ. Sem rev...   \n",
      "1  Idilvan Alencar  O SR. IDILVAN ALENCAR (Bloco/PDT - CE. Sem rev...   \n",
      "2        Bohn Gass  O SR. BOHN GASS (Bloco/PT - RS. Sem revisão do...   \n",
      "3   Alice Portugal  A SRA. ALICE PORTUGAL (Bloco/PCdoB - BA. Sem r...   \n",
      "4   Alice Portugal  A SRA. ALICE PORTUGAL (Bloco/PCdoB - BA. Sem r...   \n",
      "\n",
      "  siglaPartido espectro_politico  \n",
      "0         PSOL          Esquerda  \n",
      "1          PDT   Centro-Esquerda  \n",
      "2           PT          Esquerda  \n",
      "3        PCdoB          Esquerda  \n",
      "4        PCdoB          Esquerda  \n"
     ]
    }
   ],
   "source": [
    "# Dicionário de classificação política\n",
    "espectro_politico = {\n",
    "    \"PSOL\": \"Esquerda\",\n",
    "    \"PT\": \"Esquerda\",\n",
    "    \"PCdoB\": \"Esquerda\",\n",
    "    \"PDT\": \"Centro-Esquerda\",\n",
    "    \"PSB\": \"Centro-Esquerda\",\n",
    "    \"MDB\": \"Centro\",\n",
    "    \"PSD\": \"Centro\",\n",
    "    \"PSDB\": \"Centro-Direita\",\n",
    "    \"DEM\": \"Centro-Direita\",\n",
    "    \"PL\": \"Direita\",\n",
    "    \"PP\": \"Direita\",\n",
    "    \"PSC\": \"Direita\",\n",
    "    \"Novo\": \"Direita\",\n",
    "    \"Republicanos\": \"Direita\",\n",
    "    \"União\": \"Centro-Direita\"\n",
    "}\n",
    "\n",
    "# Criar uma nova coluna com a classificação política\n",
    "df[\"espectro_politico\"] = df[\"siglaPartido\"].map(espectro_politico).fillna(\"Desconhecido\")\n",
    "\n",
    "# Exibir as primeiras linhas com o espectro político\n",
    "print(df[[ \"nomeDeputado\", \"transcricao\" ,\"siglaPartido\", \"espectro_politico\"]].head())\n"
   ]
  },
  {
   "cell_type": "code",
   "execution_count": 26,
   "metadata": {},
   "outputs": [
    {
     "name": "stdout",
     "output_type": "stream",
     "text": [
      "{'input_ids': tensor([[  101,   231,   200,  ...,   125,  2388,   102],\n",
      "        [  101,   231,   200,  ..., 15552,   712,   102],\n",
      "        [  101,   231,   200,  ...,  4301, 10218,   102],\n",
      "        ...,\n",
      "        [  101,   177,   200,  ...,     0,     0,     0],\n",
      "        [  101,   231,   200,  ..., 15552,   712,   102],\n",
      "        [  101,   231,   200,  ...,   170,   123,   102]]), 'token_type_ids': tensor([[0, 0, 0,  ..., 0, 0, 0],\n",
      "        [0, 0, 0,  ..., 0, 0, 0],\n",
      "        [0, 0, 0,  ..., 0, 0, 0],\n",
      "        ...,\n",
      "        [0, 0, 0,  ..., 0, 0, 0],\n",
      "        [0, 0, 0,  ..., 0, 0, 0],\n",
      "        [0, 0, 0,  ..., 0, 0, 0]]), 'attention_mask': tensor([[1, 1, 1,  ..., 1, 1, 1],\n",
      "        [1, 1, 1,  ..., 1, 1, 1],\n",
      "        [1, 1, 1,  ..., 1, 1, 1],\n",
      "        ...,\n",
      "        [1, 1, 1,  ..., 0, 0, 0],\n",
      "        [1, 1, 1,  ..., 1, 1, 1],\n",
      "        [1, 1, 1,  ..., 1, 1, 1]])}\n"
     ]
    }
   ],
   "source": [
    "from transformers import AutoTokenizer\n",
    "\n",
    "# Carregar o tokenizador de um modelo pré-treinado\n",
    "modelo = \"neuralmind/bert-base-portuguese-cased\"\n",
    "tokenizer = AutoTokenizer.from_pretrained(modelo)\n",
    "# Carregar o modelo pré-treinado BERT\n",
    "model = AutoModel.from_pretrained(modelo)\n",
    "\n",
    "# Tokenizar os textos da coluna \"transcricao\"\n",
    "max_length = model.config.max_position_embeddings\n",
    "tokens = tokenizer(df[\"transcricao\"].tolist(), return_tensors=\"pt\", truncation=True, padding=True, max_length=max_length)\n",
    "\n",
    "# Exibir os tokens gerados\n",
    "print(tokens)\n"
   ]
  },
  {
   "cell_type": "code",
   "execution_count": 27,
   "metadata": {},
   "outputs": [
    {
     "name": "stdout",
     "output_type": "stream",
     "text": [
      "                     nomeDeputado  \\\n",
      "0                  Tarcísio Motta   \n",
      "1                 Idilvan Alencar   \n",
      "2                       Bohn Gass   \n",
      "3                  Alice Portugal   \n",
      "4                  Alice Portugal   \n",
      "5                    Rafael Brito   \n",
      "6                  Alice Portugal   \n",
      "7                  Mendonça Filho   \n",
      "8                         Reimont   \n",
      "9                         Dandara   \n",
      "10  Professora Luciene Cavalcante   \n",
      "11                 Alice Portugal   \n",
      "12                 Mendonça Filho   \n",
      "13                     Padre João   \n",
      "14                  Tabata Amaral   \n",
      "15                  Kim Kataguiri   \n",
      "16                 Alice Portugal   \n",
      "17                  Tabata Amaral   \n",
      "18                Idilvan Alencar   \n",
      "19                   Tadeu Veneri   \n",
      "\n",
      "                                            embedding  \n",
      "0   [-0.11048069596290588, 0.07776959985494614, 0....  \n",
      "1   [-0.10577062517404556, -0.011934841051697731, ...  \n",
      "2   [-0.0627225711941719, 0.07326792180538177, 0.5...  \n",
      "3   [-0.03587338328361511, 0.13127611577510834, 0....  \n",
      "4   [-0.03587338328361511, 0.13127611577510834, 0....  \n",
      "5   [-0.07825268059968948, 0.05630270391702652, 0....  \n",
      "6   [-0.10450660437345505, -0.020083867013454437, ...  \n",
      "7   [-0.18462224304676056, 0.047718971967697144, 0...  \n",
      "8   [-0.09392250329256058, 0.024795474484562874, 0...  \n",
      "9   [-0.11824483424425125, -0.03996868431568146, 0...  \n",
      "10  [-0.13496048748493195, 0.10699477791786194, 0....  \n",
      "11  [-0.11947841197252274, 0.05698854848742485, 0....  \n",
      "12  [-0.11526644974946976, -0.07994184643030167, 0...  \n",
      "13  [-0.15020933747291565, 0.04820776730775833, 0....  \n",
      "14  [-0.13283860683441162, 0.19190795719623566, 0....  \n",
      "15  [-0.1475454568862915, 0.037540413439273834, 0....  \n",
      "16  [-0.11947841197252274, 0.05698854848742485, 0....  \n",
      "17  [-0.13283860683441162, 0.19190795719623566, 0....  \n",
      "18  [-0.10577062517404556, -0.011934841051697731, ...  \n",
      "19  [-0.12547346949577332, -0.004443248733878136, ...  \n"
     ]
    }
   ],
   "source": [
    "from transformers import AutoModel\n",
    "import torch\n",
    "\n",
    "\n",
    "# Passar os tokens pelo modelo para gerar embeddings\n",
    "with torch.no_grad():\n",
    "    outputs = model(**tokens)\n",
    "\n",
    "# Extraindo os embeddings da última camada oculta\n",
    "embeddings = outputs.last_hidden_state.mean(dim=1).detach().numpy()\n",
    "\n",
    "# Adicionar ao DataFrame\n",
    "df[\"embedding\"] = embeddings.tolist()\n",
    "\n",
    "# Exibir os embeddings\n",
    "print(df[[\"nomeDeputado\", \"embedding\"]])\n"
   ]
  },
  {
   "cell_type": "code",
   "execution_count": 28,
   "metadata": {},
   "outputs": [
    {
     "name": "stdout",
     "output_type": "stream",
     "text": [
      "Similaridade entre os discursos: 0.9674\n"
     ]
    }
   ],
   "source": [
    "from sklearn.metrics.pairwise import cosine_similarity\n",
    "\n",
    "# Comparar a similaridade entre os discursos\n",
    "similaridade = cosine_similarity([embeddings[0]], [embeddings[1]])\n",
    "\n",
    "print(f\"Similaridade entre os discursos: {similaridade[0][0]:.4f}\")\n"
   ]
  },
  {
   "cell_type": "code",
   "execution_count": 29,
   "metadata": {},
   "outputs": [
    {
     "data": {
      "image/png": "[encoded data removed]",
      "text/plain": [
       "<Figure size 1000x800 with 1 Axes>"
      ]
     },
     "metadata": {},
     "output_type": "display_data"
    }
   ],
   "source": [
    "from sklearn.manifold import TSNE\n",
    "import matplotlib.pyplot as plt\n",
    "import seaborn as sns\n",
    "\n",
    "\n",
    "# Reduzir a dimensionalidade com t-SNE\n",
    "tsne = TSNE(n_components=2, perplexity=5, random_state=0)\n",
    "embeddings_2d = tsne.fit_transform(embeddings)\n",
    "\n",
    "# Adicionar ao DataFrame\n",
    "df[\"tsne_x\"] = embeddings_2d[:, 0]\n",
    "df[\"tsne_y\"] = embeddings_2d[:, 1]\n",
    "\n",
    "\n",
    "plt.figure(figsize=(10, 8))\n",
    "\n",
    "# Criar gráfico com os discursos posicionados no espaço reduzido\n",
    "sns.scatterplot(x=\"tsne_x\", y=\"tsne_y\", hue=\"espectro_politico\", data=df, palette=\"deep\", s=100)\n",
    "\n",
    "# Adicionar rótulos aos pontos (opcional)\n",
    "for i, row in df.iterrows():\n",
    "    plt.annotate(row[\"siglaPartido\"], (row[\"tsne_x\"], row[\"tsne_y\"]), fontsize=9)\n",
    "\n",
    "# Renomear os eixos para refletir o contexto do trabalho\n",
    "plt.title(\"Mapa de Similaridade dos Discursos Políticos\")\n",
    "plt.xlabel(\"Eixo de Similaridade Política\")  # Antigo 'Dimensão 1'\n",
    "plt.ylabel(\"Eixo de Divergência de Discurso\")  # Antigo 'Dimensão 2'\n",
    "\n",
    "plt.legend(title=\"Partido Político\")\n",
    "plt.show()\n",
    "\n"
   ]
  },
  {
   "cell_type": "code",
   "execution_count": 30,
   "metadata": {},
   "outputs": [
    {
     "data": {
      "image/png": "[encoded data removed]",
      "text/plain": [
       "<Figure size 2000x800 with 1 Axes>"
      ]
     },
     "metadata": {},
     "output_type": "display_data"
    }
   ],
   "source": [
    "plt.figure(figsize=(20, 8))\n",
    "\n",
    "# Criar gráfico com os discursos posicionados no espaço reduzido\n",
    "sns.scatterplot(x=\"tsne_x\", y=\"tsne_y\", hue=\"espectro_politico\", data=df, palette=\"deep\", s=200)\n",
    "\n",
    "# Adicionar rótulos aos pontos (opcional)\n",
    "for i, row in df.iterrows():\n",
    "    plt.annotate(row[\"nomeDeputado\"], (row[\"tsne_x\"], row[\"tsne_y\"]), fontsize=9)\n",
    "\n",
    "# Renomear os eixos para refletir o contexto do trabalho\n",
    "plt.title(\"Mapa de Similaridade dos Discursos Políticos\")\n",
    "plt.xlabel(\"Eixo de Similaridade Política\")  # Antigo 'Dimensão 1'\n",
    "plt.ylabel(\"Eixo de Divergência de Discurso\")  # Antigo 'Dimensão 2'\n",
    "\n",
    "plt.legend(title=\"Partido Político\")\n",
    "plt.show()\n"
   ]
  },
  {
   "cell_type": "markdown",
   "metadata": {},
   "source": [
    "Se partidos semelhantes (exemplo: PSOL e PT) ficarem próximos no eixo X, então Dimensão 1 representa ideologia política.\n",
    "Se houver muita dispersão no eixo Y, pode indicar variação interna dentro dos partidos (discursos mais independentes)."
   ]
  },
  {
   "cell_type": "markdown",
   "metadata": {},
   "source": [
    "Por aqui, conclui-se as visualizações geradas para o trabalho, e análises podem ser realizadas.\n",
    "\n",
    "Abaixo estão pedaços de algumas visualizações testes que realizei antes de conseguir chegar na solução acima."
   ]
  },
  {
   "cell_type": "code",
   "execution_count": 31,
   "metadata": {},
   "outputs": [
    {
     "name": "stdout",
     "output_type": "stream",
     "text": [
      "5.10.4\n"
     ]
    },
    {
     "data": {
      "application/vnd.plotly.v1+json": {
       "config": {
        "plotlyServerURL": "https://plot.ly"
       },
       "data": [
        {
         "colorscale": [
          [
           0,
           "#00083e"
          ],
          [
           0.5,
           "#ededee"
          ],
          [
           1,
           "#ffffff"
          ]
         ],
         "hoverinfo": "none",
         "opacity": 0.75,
         "showscale": false,
         "type": "heatmap",
         "z": [
          [
           0,
           0
          ],
          [
           0.5,
           0.5
          ],
          [
           1,
           1
          ],
          [
           0.5,
           0.5
          ],
          [
           1,
           1
          ],
          [
           0.5,
           0.5
          ],
          [
           1,
           1
          ],
          [
           0.5,
           0.5
          ],
          [
           1,
           1
          ],
          [
           0.5,
           0.5
          ],
          [
           1,
           1
          ],
          [
           0.5,
           0.5
          ],
          [
           1,
           1
          ],
          [
           0.5,
           0.5
          ],
          [
           1,
           1
          ],
          [
           0.5,
           0.5
          ],
          [
           1,
           1
          ],
          [
           0.5,
           0.5
          ],
          [
           1,
           1
          ],
          [
           0.5,
           0.5
          ],
          [
           1,
           1
          ]
         ]
        }
       ],
       "layout": {
        "annotations": [
         {
          "align": "left",
          "font": {
           "color": "#ffffff"
          },
          "showarrow": false,
          "text": "<b>nomeDeputado</b>",
          "x": -0.45,
          "xanchor": "left",
          "xref": "x",
          "y": 0,
          "yref": "y"
         },
         {
          "align": "left",
          "font": {
           "color": "#ffffff"
          },
          "showarrow": false,
          "text": "<b>embedding</b>",
          "x": 0.55,
          "xanchor": "left",
          "xref": "x",
          "y": 0,
          "yref": "y"
         },
         {
          "align": "left",
          "font": {
           "color": "#000000"
          },
          "showarrow": false,
          "text": "Tarcísio Motta",
          "x": -0.45,
          "xanchor": "left",
          "xref": "x",
          "y": 1,
          "yref": "y"
         },
         {
          "align": "left",
          "font": {
           "color": "#000000"
          },
          "showarrow": false,
          "text": "[-0.11048069596290588, 0.07776959985494614, 0.5412338972091675, -0.02081296592950821, 0.2364206612110138]...",
          "x": 0.55,
          "xanchor": "left",
          "xref": "x",
          "y": 1,
          "yref": "y"
         },
         {
          "align": "left",
          "font": {
           "color": "#000000"
          },
          "showarrow": false,
          "text": "Idilvan Alencar",
          "x": -0.45,
          "xanchor": "left",
          "xref": "x",
          "y": 2,
          "yref": "y"
         },
         {
          "align": "left",
          "font": {
           "color": "#000000"
          },
          "showarrow": false,
          "text": "[-0.10577062517404556, -0.011934841051697731, 0.5406246185302734, -0.004300280939787626, 0.18905001878738403]...",
          "x": 0.55,
          "xanchor": "left",
          "xref": "x",
          "y": 2,
          "yref": "y"
         },
         {
          "align": "left",
          "font": {
           "color": "#000000"
          },
          "showarrow": false,
          "text": "Bohn Gass",
          "x": -0.45,
          "xanchor": "left",
          "xref": "x",
          "y": 3,
          "yref": "y"
         },
         {
          "align": "left",
          "font": {
           "color": "#000000"
          },
          "showarrow": false,
          "text": "[-0.0627225711941719, 0.07326792180538177, 0.5288362503051758, 0.02055118791759014, 0.2525232434272766]...",
          "x": 0.55,
          "xanchor": "left",
          "xref": "x",
          "y": 3,
          "yref": "y"
         },
         {
          "align": "left",
          "font": {
           "color": "#000000"
          },
          "showarrow": false,
          "text": "Alice Portugal",
          "x": -0.45,
          "xanchor": "left",
          "xref": "x",
          "y": 4,
          "yref": "y"
         },
         {
          "align": "left",
          "font": {
           "color": "#000000"
          },
          "showarrow": false,
          "text": "[-0.03587338328361511, 0.13127611577510834, 0.2801665663719177, 0.028671512380242348, 0.327176570892334]...",
          "x": 0.55,
          "xanchor": "left",
          "xref": "x",
          "y": 4,
          "yref": "y"
         },
         {
          "align": "left",
          "font": {
           "color": "#000000"
          },
          "showarrow": false,
          "text": "Alice Portugal",
          "x": -0.45,
          "xanchor": "left",
          "xref": "x",
          "y": 5,
          "yref": "y"
         },
         {
          "align": "left",
          "font": {
           "color": "#000000"
          },
          "showarrow": false,
          "text": "[-0.03587338328361511, 0.13127611577510834, 0.2801665663719177, 0.028671512380242348, 0.327176570892334]...",
          "x": 0.55,
          "xanchor": "left",
          "xref": "x",
          "y": 5,
          "yref": "y"
         },
         {
          "align": "left",
          "font": {
           "color": "#000000"
          },
          "showarrow": false,
          "text": "Rafael Brito",
          "x": -0.45,
          "xanchor": "left",
          "xref": "x",
          "y": 6,
          "yref": "y"
         },
         {
          "align": "left",
          "font": {
           "color": "#000000"
          },
          "showarrow": false,
          "text": "[-0.07825268059968948, 0.05630270391702652, 0.507897138595581, -0.012392306700348854, 0.1895741969347]...",
          "x": 0.55,
          "xanchor": "left",
          "xref": "x",
          "y": 6,
          "yref": "y"
         },
         {
          "align": "left",
          "font": {
           "color": "#000000"
          },
          "showarrow": false,
          "text": "Alice Portugal",
          "x": -0.45,
          "xanchor": "left",
          "xref": "x",
          "y": 7,
          "yref": "y"
         },
         {
          "align": "left",
          "font": {
           "color": "#000000"
          },
          "showarrow": false,
          "text": "[-0.10450660437345505, -0.020083867013454437, 0.647077739238739, 0.15525048971176147, 0.26236215233802795]...",
          "x": 0.55,
          "xanchor": "left",
          "xref": "x",
          "y": 7,
          "yref": "y"
         },
         {
          "align": "left",
          "font": {
           "color": "#000000"
          },
          "showarrow": false,
          "text": "Mendonça Filho",
          "x": -0.45,
          "xanchor": "left",
          "xref": "x",
          "y": 8,
          "yref": "y"
         },
         {
          "align": "left",
          "font": {
           "color": "#000000"
          },
          "showarrow": false,
          "text": "[-0.18462224304676056, 0.047718971967697144, 0.586527943611145, -0.03377331420779228, 0.23235109448432922]...",
          "x": 0.55,
          "xanchor": "left",
          "xref": "x",
          "y": 8,
          "yref": "y"
         },
         {
          "align": "left",
          "font": {
           "color": "#000000"
          },
          "showarrow": false,
          "text": "Reimont",
          "x": -0.45,
          "xanchor": "left",
          "xref": "x",
          "y": 9,
          "yref": "y"
         },
         {
          "align": "left",
          "font": {
           "color": "#000000"
          },
          "showarrow": false,
          "text": "[-0.09392250329256058, 0.024795474484562874, 0.44573330879211426, 0.07251547276973724, 0.2629513740539551]...",
          "x": 0.55,
          "xanchor": "left",
          "xref": "x",
          "y": 9,
          "yref": "y"
         },
         {
          "align": "left",
          "font": {
           "color": "#000000"
          },
          "showarrow": false,
          "text": "Dandara",
          "x": -0.45,
          "xanchor": "left",
          "xref": "x",
          "y": 10,
          "yref": "y"
         },
         {
          "align": "left",
          "font": {
           "color": "#000000"
          },
          "showarrow": false,
          "text": "[-0.11824483424425125, -0.03996868431568146, 0.4477319121360779, -0.0531909354031086, 0.28066056966781616]...",
          "x": 0.55,
          "xanchor": "left",
          "xref": "x",
          "y": 10,
          "yref": "y"
         },
         {
          "align": "left",
          "font": {
           "color": "#000000"
          },
          "showarrow": false,
          "text": "Professora Luciene Cavalcante",
          "x": -0.45,
          "xanchor": "left",
          "xref": "x",
          "y": 11,
          "yref": "y"
         },
         {
          "align": "left",
          "font": {
           "color": "#000000"
          },
          "showarrow": false,
          "text": "[-0.13496048748493195, 0.10699477791786194, 0.5243018865585327, -0.006612136960029602, 0.24958379566669464]...",
          "x": 0.55,
          "xanchor": "left",
          "xref": "x",
          "y": 11,
          "yref": "y"
         },
         {
          "align": "left",
          "font": {
           "color": "#000000"
          },
          "showarrow": false,
          "text": "Alice Portugal",
          "x": -0.45,
          "xanchor": "left",
          "xref": "x",
          "y": 12,
          "yref": "y"
         },
         {
          "align": "left",
          "font": {
           "color": "#000000"
          },
          "showarrow": false,
          "text": "[-0.11947841197252274, 0.05698854848742485, 0.4574233293533325, 0.031882867217063904, 0.27293992042541504]...",
          "x": 0.55,
          "xanchor": "left",
          "xref": "x",
          "y": 12,
          "yref": "y"
         },
         {
          "align": "left",
          "font": {
           "color": "#000000"
          },
          "showarrow": false,
          "text": "Mendonça Filho",
          "x": -0.45,
          "xanchor": "left",
          "xref": "x",
          "y": 13,
          "yref": "y"
         },
         {
          "align": "left",
          "font": {
           "color": "#000000"
          },
          "showarrow": false,
          "text": "[-0.11526644974946976, -0.07994184643030167, 0.6088950634002686, -0.016372274607419968, 0.23016954958438873]...",
          "x": 0.55,
          "xanchor": "left",
          "xref": "x",
          "y": 13,
          "yref": "y"
         },
         {
          "align": "left",
          "font": {
           "color": "#000000"
          },
          "showarrow": false,
          "text": "Padre João",
          "x": -0.45,
          "xanchor": "left",
          "xref": "x",
          "y": 14,
          "yref": "y"
         },
         {
          "align": "left",
          "font": {
           "color": "#000000"
          },
          "showarrow": false,
          "text": "[-0.15020933747291565, 0.04820776730775833, 0.5204225778579712, 0.046432945877313614, 0.22324000298976898]...",
          "x": 0.55,
          "xanchor": "left",
          "xref": "x",
          "y": 14,
          "yref": "y"
         },
         {
          "align": "left",
          "font": {
           "color": "#000000"
          },
          "showarrow": false,
          "text": "Tabata Amaral",
          "x": -0.45,
          "xanchor": "left",
          "xref": "x",
          "y": 15,
          "yref": "y"
         },
         {
          "align": "left",
          "font": {
           "color": "#000000"
          },
          "showarrow": false,
          "text": "[-0.13283860683441162, 0.19190795719623566, 0.35516756772994995, -0.14304590225219727, 0.2161143720149994]...",
          "x": 0.55,
          "xanchor": "left",
          "xref": "x",
          "y": 15,
          "yref": "y"
         },
         {
          "align": "left",
          "font": {
           "color": "#000000"
          },
          "showarrow": false,
          "text": "Kim Kataguiri",
          "x": -0.45,
          "xanchor": "left",
          "xref": "x",
          "y": 16,
          "yref": "y"
         },
         {
          "align": "left",
          "font": {
           "color": "#000000"
          },
          "showarrow": false,
          "text": "[-0.1475454568862915, 0.037540413439273834, 0.5919046998023987, 0.14540347456932068, 0.3441482186317444]...",
          "x": 0.55,
          "xanchor": "left",
          "xref": "x",
          "y": 16,
          "yref": "y"
         },
         {
          "align": "left",
          "font": {
           "color": "#000000"
          },
          "showarrow": false,
          "text": "Alice Portugal",
          "x": -0.45,
          "xanchor": "left",
          "xref": "x",
          "y": 17,
          "yref": "y"
         },
         {
          "align": "left",
          "font": {
           "color": "#000000"
          },
          "showarrow": false,
          "text": "[-0.11947841197252274, 0.05698854848742485, 0.4574233293533325, 0.031882867217063904, 0.27293992042541504]...",
          "x": 0.55,
          "xanchor": "left",
          "xref": "x",
          "y": 17,
          "yref": "y"
         },
         {
          "align": "left",
          "font": {
           "color": "#000000"
          },
          "showarrow": false,
          "text": "Tabata Amaral",
          "x": -0.45,
          "xanchor": "left",
          "xref": "x",
          "y": 18,
          "yref": "y"
         },
         {
          "align": "left",
          "font": {
           "color": "#000000"
          },
          "showarrow": false,
          "text": "[-0.13283860683441162, 0.19190795719623566, 0.35516756772994995, -0.14304590225219727, 0.2161143720149994]...",
          "x": 0.55,
          "xanchor": "left",
          "xref": "x",
          "y": 18,
          "yref": "y"
         },
         {
          "align": "left",
          "font": {
           "color": "#000000"
          },
          "showarrow": false,
          "text": "Idilvan Alencar",
          "x": -0.45,
          "xanchor": "left",
          "xref": "x",
          "y": 19,
          "yref": "y"
         },
         {
          "align": "left",
          "font": {
           "color": "#000000"
          },
          "showarrow": false,
          "text": "[-0.10577062517404556, -0.011934841051697731, 0.5406246185302734, -0.004300280939787626, 0.18905001878738403]...",
          "x": 0.55,
          "xanchor": "left",
          "xref": "x",
          "y": 19,
          "yref": "y"
         },
         {
          "align": "left",
          "font": {
           "color": "#000000"
          },
          "showarrow": false,
          "text": "Tadeu Veneri",
          "x": -0.45,
          "xanchor": "left",
          "xref": "x",
          "y": 20,
          "yref": "y"
         },
         {
          "align": "left",
          "font": {
           "color": "#000000"
          },
          "showarrow": false,
          "text": "[-0.12547346949577332, -0.004443248733878136, 0.550899863243103, 0.04368490353226662, 0.1306454837322235]...",
          "x": 0.55,
          "xanchor": "left",
          "xref": "x",
          "y": 20,
          "yref": "y"
         }
        ],
        "height": 680,
        "margin": {
         "b": 0,
         "l": 0,
         "r": 0,
         "t": 0
        },
        "template": {
         "data": {
          "bar": [
           {
            "error_x": {
             "color": "#2a3f5f"
            },
            "error_y": {
             "color": "#2a3f5f"
            },
            "marker": {
             "line": {
              "color": "#E5ECF6",
              "width": 0.5
             },
             "pattern": {
              "fillmode": "overlay",
              "size": 10,
              "solidity": 0.2
             }
            },
            "type": "bar"
           }
          ],
          "barpolar": [
           {
            "marker": {
             "line": {
              "color": "#E5ECF6",
              "width": 0.5
             },
             "pattern": {
              "fillmode": "overlay",
              "size": 10,
              "solidity": 0.2
             }
            },
            "type": "barpolar"
           }
          ],
          "carpet": [
           {
            "aaxis": {
             "endlinecolor": "#2a3f5f",
             "gridcolor": "white",
             "linecolor": "white",
             "minorgridcolor": "white",
             "startlinecolor": "#2a3f5f"
            },
            "baxis": {
             "endlinecolor": "#2a3f5f",
             "gridcolor": "white",
             "linecolor": "white",
             "minorgridcolor": "white",
             "startlinecolor": "#2a3f5f"
            },
            "type": "carpet"
           }
          ],
          "choropleth": [
           {
            "colorbar": {
             "outlinewidth": 0,
             "ticks": ""
            },
            "type": "choropleth"
           }
          ],
          "contour": [
           {
            "colorbar": {
             "outlinewidth": 0,
             "ticks": ""
            },
            "colorscale": [
             [
              0,
              "#0d0887"
             ],
             [
              0.1111111111111111,
              "#46039f"
             ],
             [
              0.2222222222222222,
              "#7201a8"
             ],
             [
              0.3333333333333333,
              "#9c179e"
             ],
             [
              0.4444444444444444,
              "#bd3786"
             ],
             [
              0.5555555555555556,
              "#d8576b"
             ],
             [
              0.6666666666666666,
              "#ed7953"
             ],
             [
              0.7777777777777778,
              "#fb9f3a"
             ],
             [
              0.8888888888888888,
              "#fdca26"
             ],
             [
              1,
              "#f0f921"
             ]
            ],
            "type": "contour"
           }
          ],
          "contourcarpet": [
           {
            "colorbar": {
             "outlinewidth": 0,
             "ticks": ""
            },
            "type": "contourcarpet"
           }
          ],
          "heatmap": [
           {
            "colorbar": {
             "outlinewidth": 0,
             "ticks": ""
            },
            "colorscale": [
             [
              0,
              "#0d0887"
             ],
             [
              0.1111111111111111,
              "#46039f"
             ],
             [
              0.2222222222222222,
              "#7201a8"
             ],
             [
              0.3333333333333333,
              "#9c179e"
             ],
             [
              0.4444444444444444,
              "#bd3786"
             ],
             [
              0.5555555555555556,
              "#d8576b"
             ],
             [
              0.6666666666666666,
              "#ed7953"
             ],
             [
              0.7777777777777778,
              "#fb9f3a"
             ],
             [
              0.8888888888888888,
              "#fdca26"
             ],
             [
              1,
              "#f0f921"
             ]
            ],
            "type": "heatmap"
           }
          ],
          "histogram": [
           {
            "marker": {
             "pattern": {
              "fillmode": "overlay",
              "size": 10,
              "solidity": 0.2
             }
            },
            "type": "histogram"
           }
          ],
          "histogram2d": [
           {
            "colorbar": {
             "outlinewidth": 0,
             "ticks": ""
            },
            "colorscale": [
             [
              0,
              "#0d0887"
             ],
             [
              0.1111111111111111,
              "#46039f"
             ],
             [
              0.2222222222222222,
              "#7201a8"
             ],
             [
              0.3333333333333333,
              "#9c179e"
             ],
             [
              0.4444444444444444,
              "#bd3786"
             ],
             [
              0.5555555555555556,
              "#d8576b"
             ],
             [
              0.6666666666666666,
              "#ed7953"
             ],
             [
              0.7777777777777778,
              "#fb9f3a"
             ],
             [
              0.8888888888888888,
              "#fdca26"
             ],
             [
              1,
              "#f0f921"
             ]
            ],
            "type": "histogram2d"
           }
          ],
          "histogram2dcontour": [
           {
            "colorbar": {
             "outlinewidth": 0,
             "ticks": ""
            },
            "colorscale": [
             [
              0,
              "#0d0887"
             ],
             [
              0.1111111111111111,
              "#46039f"
             ],
             [
              0.2222222222222222,
              "#7201a8"
             ],
             [
              0.3333333333333333,
              "#9c179e"
             ],
             [
              0.4444444444444444,
              "#bd3786"
             ],
             [
              0.5555555555555556,
              "#d8576b"
             ],
             [
              0.6666666666666666,
              "#ed7953"
             ],
             [
              0.7777777777777778,
              "#fb9f3a"
             ],
             [
              0.8888888888888888,
              "#fdca26"
             ],
             [
              1,
              "#f0f921"
             ]
            ],
            "type": "histogram2dcontour"
           }
          ],
          "mesh3d": [
           {
            "colorbar": {
             "outlinewidth": 0,
             "ticks": ""
            },
            "type": "mesh3d"
           }
          ],
          "parcoords": [
           {
            "line": {
             "colorbar": {
              "outlinewidth": 0,
              "ticks": ""
             }
            },
            "type": "parcoords"
           }
          ],
          "pie": [
           {
            "automargin": true,
            "type": "pie"
           }
          ],
          "scatter": [
           {
            "fillpattern": {
             "fillmode": "overlay",
             "size": 10,
             "solidity": 0.2
            },
            "type": "scatter"
           }
          ],
          "scatter3d": [
           {
            "line": {
             "colorbar": {
              "outlinewidth": 0,
              "ticks": ""
             }
            },
            "marker": {
             "colorbar": {
              "outlinewidth": 0,
              "ticks": ""
             }
            },
            "type": "scatter3d"
           }
          ],
          "scattercarpet": [
           {
            "marker": {
             "colorbar": {
              "outlinewidth": 0,
              "ticks": ""
             }
            },
            "type": "scattercarpet"
           }
          ],
          "scattergeo": [
           {
            "marker": {
             "colorbar": {
              "outlinewidth": 0,
              "ticks": ""
             }
            },
            "type": "scattergeo"
           }
          ],
          "scattergl": [
           {
            "marker": {
             "colorbar": {
              "outlinewidth": 0,
              "ticks": ""
             }
            },
            "type": "scattergl"
           }
          ],
          "scattermap": [
           {
            "marker": {
             "colorbar": {
              "outlinewidth": 0,
              "ticks": ""
             }
            },
            "type": "scattermap"
           }
          ],
          "scattermapbox": [
           {
            "marker": {
             "colorbar": {
              "outlinewidth": 0,
              "ticks": ""
             }
            },
            "type": "scattermapbox"
           }
          ],
          "scatterpolar": [
           {
            "marker": {
             "colorbar": {
              "outlinewidth": 0,
              "ticks": ""
             }
            },
            "type": "scatterpolar"
           }
          ],
          "scatterpolargl": [
           {
            "marker": {
             "colorbar": {
              "outlinewidth": 0,
              "ticks": ""
             }
            },
            "type": "scatterpolargl"
           }
          ],
          "scatterternary": [
           {
            "marker": {
             "colorbar": {
              "outlinewidth": 0,
              "ticks": ""
             }
            },
            "type": "scatterternary"
           }
          ],
          "surface": [
           {
            "colorbar": {
             "outlinewidth": 0,
             "ticks": ""
            },
            "colorscale": [
             [
              0,
              "#0d0887"
             ],
             [
              0.1111111111111111,
              "#46039f"
             ],
             [
              0.2222222222222222,
              "#7201a8"
             ],
             [
              0.3333333333333333,
              "#9c179e"
             ],
             [
              0.4444444444444444,
              "#bd3786"
             ],
             [
              0.5555555555555556,
              "#d8576b"
             ],
             [
              0.6666666666666666,
              "#ed7953"
             ],
             [
              0.7777777777777778,
              "#fb9f3a"
             ],
             [
              0.8888888888888888,
              "#fdca26"
             ],
             [
              1,
              "#f0f921"
             ]
            ],
            "type": "surface"
           }
          ],
          "table": [
           {
            "cells": {
             "fill": {
              "color": "#EBF0F8"
             },
             "line": {
              "color": "white"
             }
            },
            "header": {
             "fill": {
              "color": "#C8D4E3"
             },
             "line": {
              "color": "white"
             }
            },
            "type": "table"
           }
          ]
         },
         "layout": {
          "annotationdefaults": {
           "arrowcolor": "#2a3f5f",
           "arrowhead": 0,
           "arrowwidth": 1
          },
          "autotypenumbers": "strict",
          "coloraxis": {
           "colorbar": {
            "outlinewidth": 0,
            "ticks": ""
           }
          },
          "colorscale": {
           "diverging": [
            [
             0,
             "#8e0152"
            ],
            [
             0.1,
             "#c51b7d"
            ],
            [
             0.2,
             "#de77ae"
            ],
            [
             0.3,
             "#f1b6da"
            ],
            [
             0.4,
             "#fde0ef"
            ],
            [
             0.5,
             "#f7f7f7"
            ],
            [
             0.6,
             "#e6f5d0"
            ],
            [
             0.7,
             "#b8e186"
            ],
            [
             0.8,
             "#7fbc41"
            ],
            [
             0.9,
             "#4d9221"
            ],
            [
             1,
             "#276419"
            ]
           ],
           "sequential": [
            [
             0,
             "#0d0887"
            ],
            [
             0.1111111111111111,
             "#46039f"
            ],
            [
             0.2222222222222222,
             "#7201a8"
            ],
            [
             0.3333333333333333,
             "#9c179e"
            ],
            [
             0.4444444444444444,
             "#bd3786"
            ],
            [
             0.5555555555555556,
             "#d8576b"
            ],
            [
             0.6666666666666666,
             "#ed7953"
            ],
            [
             0.7777777777777778,
             "#fb9f3a"
            ],
            [
             0.8888888888888888,
             "#fdca26"
            ],
            [
             1,
             "#f0f921"
            ]
           ],
           "sequentialminus": [
            [
             0,
             "#0d0887"
            ],
            [
             0.1111111111111111,
             "#46039f"
            ],
            [
             0.2222222222222222,
             "#7201a8"
            ],
            [
             0.3333333333333333,
             "#9c179e"
            ],
            [
             0.4444444444444444,
             "#bd3786"
            ],
            [
             0.5555555555555556,
             "#d8576b"
            ],
            [
             0.6666666666666666,
             "#ed7953"
            ],
            [
             0.7777777777777778,
             "#fb9f3a"
            ],
            [
             0.8888888888888888,
             "#fdca26"
            ],
            [
             1,
             "#f0f921"
            ]
           ]
          },
          "colorway": [
           "#636efa",
           "#EF553B",
           "#00cc96",
           "#ab63fa",
           "#FFA15A",
           "#19d3f3",
           "#FF6692",
           "#B6E880",
           "#FF97FF",
           "#FECB52"
          ],
          "font": {
           "color": "#2a3f5f"
          },
          "geo": {
           "bgcolor": "white",
           "lakecolor": "white",
           "landcolor": "#E5ECF6",
           "showlakes": true,
           "showland": true,
           "subunitcolor": "white"
          },
          "hoverlabel": {
           "align": "left"
          },
          "hovermode": "closest",
          "mapbox": {
           "style": "light"
          },
          "paper_bgcolor": "white",
          "plot_bgcolor": "#E5ECF6",
          "polar": {
           "angularaxis": {
            "gridcolor": "white",
            "linecolor": "white",
            "ticks": ""
           },
           "bgcolor": "#E5ECF6",
           "radialaxis": {
            "gridcolor": "white",
            "linecolor": "white",
            "ticks": ""
           }
          },
          "scene": {
           "xaxis": {
            "backgroundcolor": "#E5ECF6",
            "gridcolor": "white",
            "gridwidth": 2,
            "linecolor": "white",
            "showbackground": true,
            "ticks": "",
            "zerolinecolor": "white"
           },
           "yaxis": {
            "backgroundcolor": "#E5ECF6",
            "gridcolor": "white",
            "gridwidth": 2,
            "linecolor": "white",
            "showbackground": true,
            "ticks": "",
            "zerolinecolor": "white"
           },
           "zaxis": {
            "backgroundcolor": "#E5ECF6",
            "gridcolor": "white",
            "gridwidth": 2,
            "linecolor": "white",
            "showbackground": true,
            "ticks": "",
            "zerolinecolor": "white"
           }
          },
          "shapedefaults": {
           "line": {
            "color": "#2a3f5f"
           }
          },
          "ternary": {
           "aaxis": {
            "gridcolor": "white",
            "linecolor": "white",
            "ticks": ""
           },
           "baxis": {
            "gridcolor": "white",
            "linecolor": "white",
            "ticks": ""
           },
           "bgcolor": "#E5ECF6",
           "caxis": {
            "gridcolor": "white",
            "linecolor": "white",
            "ticks": ""
           }
          },
          "title": {
           "x": 0.05
          },
          "xaxis": {
           "automargin": true,
           "gridcolor": "white",
           "linecolor": "white",
           "ticks": "",
           "title": {
            "standoff": 15
           },
           "zerolinecolor": "white",
           "zerolinewidth": 2
          },
          "yaxis": {
           "automargin": true,
           "gridcolor": "white",
           "linecolor": "white",
           "ticks": "",
           "title": {
            "standoff": 15
           },
           "zerolinecolor": "white",
           "zerolinewidth": 2
          }
         }
        },
        "xaxis": {
         "dtick": 1,
         "gridwidth": 2,
         "showticklabels": false,
         "tick0": -0.5,
         "ticks": "",
         "zeroline": false
        },
        "yaxis": {
         "autorange": "reversed",
         "dtick": 1,
         "gridwidth": 2,
         "showticklabels": false,
         "tick0": 0.5,
         "ticks": "",
         "zeroline": false
        }
       }
      }
     },
     "metadata": {},
     "output_type": "display_data"
    }
   ],
   "source": [
    "import plotly.figure_factory as ff\n",
    "import nbformat\n",
    "\n",
    "print(nbformat.__version__)\n",
    "# Criar uma tabela com os dados relevantes\n",
    "tabela = df[[\"nomeDeputado\",  \"embedding\"]]\n",
    "\n",
    "# Transformar embeddings em strings reduzidas para exibição\n",
    "tabela[\"embedding\"] = tabela[\"embedding\"].apply(lambda x: str(x[:5]) + \"...\")  # Mostra apenas os 5 primeiros valores\n",
    "\n",
    "# Criando a tabela interativa\n",
    "fig = ff.create_table(tabela)\n",
    "\n",
    "# Exibir a tabela\n",
    "fig.show()"
   ]
  },
  {
   "cell_type": "markdown",
   "metadata": {},
   "source": []
  },
  {
   "cell_type": "code",
   "execution_count": 32,
   "metadata": {},
   "outputs": [
    {
     "data": {
      "image/png": "[encoded data removed]",
      "text/plain": [
       "<Figure size 640x480 with 1 Axes>"
      ]
     },
     "metadata": {},
     "output_type": "display_data"
    },
    {
     "name": "stdout",
     "output_type": "stream",
     "text": [
      "                  tsne_x      tsne_y\n",
      "siglaPartido                        \n",
      "MDB           -34.073067 -149.571304\n",
      "PCdoB         126.765846  203.891449\n",
      "PDT            99.136169 -368.280579\n",
      "PSB          -418.463623 -222.234680\n",
      "PSOL          116.660217 -121.869446\n",
      "PT             16.526823  -69.999084\n",
      "União         -49.936890  346.395172\n"
     ]
    }
   ],
   "source": [
    "import seaborn as sns\n",
    "\n",
    "# Criar gráfico de dispersão sem cores\n",
    "sns.scatterplot(x=df[\"tsne_x\"], y=df[\"tsne_y\"], s=50)\n",
    "plt.xlabel(\"Dimensão 1 (Eixo de Similaridade Política)\")\n",
    "plt.ylabel(\"Dimensão 2 (Eixo de Divergência de Discurso)\")\n",
    "plt.title(\"Dispersão dos Discursos no Espaço t-SNE\")\n",
    "plt.show()\n",
    "\n",
    "# Agrupar por partido e ver a média das dimensões\n",
    "df_grouped = df.groupby(\"siglaPartido\")[[\"tsne_x\", \"tsne_y\"]].mean()\n",
    "print(df_grouped)\n"
   ]
  }
 ],
 "metadata": {
  "kernelspec": {
   "display_name": "Python 3",
   "language": "python",
   "name": "python3"
  },
  "language_info": {
   "codemirror_mode": {
    "name": "ipython",
    "version": 3
   },
   "file_extension": ".py",
   "mimetype": "text/x-python",
   "name": "python",
   "nbconvert_exporter": "python",
   "pygments_lexer": "ipython3",
   "version": "3.13.0"
  }
 },
 "nbformat": 4,
 "nbformat_minor": 2
}
